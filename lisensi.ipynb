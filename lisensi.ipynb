Surat Lisensi Github Kota Cainis Kabupaten Chindo  
     
                                Hanin, 54 Juned 10098
                                Chindo
Yth.
Bencong/Banci

Kmai menyampaikan bahwa lisensi ini tidak terverifikasi.
Sudah gitu aja 🗿

VISI DAN MISI

VISI:
Gatau

MISI:
Menjadikan cewe dan cowo menjadi bencong dan banci sehingga kota cainis, kabupaten chindo menjadi
kota tidak normal sepanjang masa
